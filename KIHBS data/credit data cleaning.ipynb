{
 "cells": [
  {
   "cell_type": "markdown",
   "metadata": {},
   "source": [
    "# Credit1 - Applied and got credit\n",
    "\n",
    "This data outlines information about entities that applied for credit and got it."
   ]
  },
  {
   "cell_type": "markdown",
   "metadata": {},
   "source": [
    "## Data Variables\n",
    "\n",
    " **clid** - rank of (rand) contin\n",
    " \n",
    " **hhid** - rank of (rand) by a09\n",
    " \n",
    " **r01** - did you or anyone else in this household attempt to get credit in form of cash\n",
    " \n",
    " **r02** - did you or anyone else in this household secure a loan (borrow) in form of cash\n",
    " \n",
    " **r03** - Credit item number\n",
    " \n",
    " **r04** - Credit item\n",
    " \n",
    " **r05** - Household member responsible for the loan\n",
    " \n",
    " **r06** - What was the source of the credit over the last 12 months\n",
    " \n",
    " **r07** - Main reason of obtaining the loan\n",
    " \n",
    " **r08** - How much was borrowed\n",
    " \n",
    " **r09** - How long did it take to obtain the loan\n",
    " \n",
    " **r10_m** - Rate of interest per month\n",
    " \n",
    " **r10_y** - Rate of interest per annum\n",
    " \n",
    " **r11** - Repayment of loan in months\n",
    " \n",
    " **r12** - How much is outstanding\n",
    " \n",
    " **r13** - What kind of qurantee/collateral was mainly required"
   ]
  },
  {
   "cell_type": "markdown",
   "metadata": {},
   "source": [
    "# Import libraries"
   ]
  },
  {
   "cell_type": "code",
   "execution_count": 123,
   "metadata": {},
   "outputs": [],
   "source": [
    "import numpy as np\n",
    "import pandas as pd\n",
    "import matplotlib.pyplot as plt\n",
    "import seaborn as sns\n",
    "\n",
    "%matplotlib inline"
   ]
  },
  {
   "cell_type": "code",
   "execution_count": 124,
   "metadata": {},
   "outputs": [],
   "source": [
    "credit = pd.read_csv('csv files/Credit1.dta.csv')"
   ]
  },
  {
   "cell_type": "code",
   "execution_count": 125,
   "metadata": {},
   "outputs": [
    {
     "data": {
      "text/html": [
       "<div>\n",
       "<style scoped>\n",
       "    .dataframe tbody tr th:only-of-type {\n",
       "        vertical-align: middle;\n",
       "    }\n",
       "\n",
       "    .dataframe tbody tr th {\n",
       "        vertical-align: top;\n",
       "    }\n",
       "\n",
       "    .dataframe thead th {\n",
       "        text-align: right;\n",
       "    }\n",
       "</style>\n",
       "<table border=\"1\" class=\"dataframe\">\n",
       "  <thead>\n",
       "    <tr style=\"text-align: right;\">\n",
       "      <th></th>\n",
       "      <th>Unnamed: 0</th>\n",
       "      <th>clid</th>\n",
       "      <th>hhid</th>\n",
       "      <th>r01</th>\n",
       "      <th>r02</th>\n",
       "      <th>r03</th>\n",
       "      <th>r04</th>\n",
       "      <th>r05</th>\n",
       "      <th>r06</th>\n",
       "      <th>r07</th>\n",
       "      <th>r08</th>\n",
       "      <th>r09</th>\n",
       "      <th>r10_m</th>\n",
       "      <th>r10_y</th>\n",
       "      <th>r11</th>\n",
       "      <th>r12</th>\n",
       "      <th>r13</th>\n",
       "    </tr>\n",
       "  </thead>\n",
       "  <tbody>\n",
       "    <tr>\n",
       "      <td>0</td>\n",
       "      <td>0</td>\n",
       "      <td>1.0</td>\n",
       "      <td>1.0</td>\n",
       "      <td>Yes</td>\n",
       "      <td>Yes</td>\n",
       "      <td>1.0</td>\n",
       "      <td>EDUCATION LOAN</td>\n",
       "      <td>1.0</td>\n",
       "      <td>Self-Help Groups/Chamas</td>\n",
       "      <td>School Fees (Education)</td>\n",
       "      <td>10000.0</td>\n",
       "      <td>NaN</td>\n",
       "      <td>10.0</td>\n",
       "      <td>NaN</td>\n",
       "      <td>6.0</td>\n",
       "      <td>4000.0</td>\n",
       "      <td>Shares</td>\n",
       "    </tr>\n",
       "    <tr>\n",
       "      <td>1</td>\n",
       "      <td>1</td>\n",
       "      <td>1.0</td>\n",
       "      <td>2.0</td>\n",
       "      <td>Yes</td>\n",
       "      <td>Yes</td>\n",
       "      <td>1.0</td>\n",
       "      <td>LOAN</td>\n",
       "      <td>1.0</td>\n",
       "      <td>Self-Help Groups/Chamas</td>\n",
       "      <td>Subsistence Needs</td>\n",
       "      <td>10000.0</td>\n",
       "      <td>21.0</td>\n",
       "      <td>10.0</td>\n",
       "      <td>NaN</td>\n",
       "      <td>5.0</td>\n",
       "      <td>0.0</td>\n",
       "      <td>Shares</td>\n",
       "    </tr>\n",
       "    <tr>\n",
       "      <td>2</td>\n",
       "      <td>2</td>\n",
       "      <td>1.0</td>\n",
       "      <td>4.0</td>\n",
       "      <td>Yes</td>\n",
       "      <td>Yes</td>\n",
       "      <td>1.0</td>\n",
       "      <td>LOAN</td>\n",
       "      <td>1.0</td>\n",
       "      <td>Self-Help Groups/Chamas</td>\n",
       "      <td>Purchase/Construction of Dwelling</td>\n",
       "      <td>4000.0</td>\n",
       "      <td>2.0</td>\n",
       "      <td>10.0</td>\n",
       "      <td>NaN</td>\n",
       "      <td>4.0</td>\n",
       "      <td>0.0</td>\n",
       "      <td>Shares</td>\n",
       "    </tr>\n",
       "    <tr>\n",
       "      <td>3</td>\n",
       "      <td>3</td>\n",
       "      <td>1.0</td>\n",
       "      <td>6.0</td>\n",
       "      <td>Yes</td>\n",
       "      <td>Yes</td>\n",
       "      <td>1.0</td>\n",
       "      <td>NaN</td>\n",
       "      <td>1.0</td>\n",
       "      <td>Self-Help Groups/Chamas</td>\n",
       "      <td>Subsistence Needs</td>\n",
       "      <td>20000.0</td>\n",
       "      <td>7.0</td>\n",
       "      <td>NaN</td>\n",
       "      <td>10.0</td>\n",
       "      <td>12.0</td>\n",
       "      <td>0.0</td>\n",
       "      <td>Livestock</td>\n",
       "    </tr>\n",
       "    <tr>\n",
       "      <td>4</td>\n",
       "      <td>4</td>\n",
       "      <td>2.0</td>\n",
       "      <td>3.0</td>\n",
       "      <td>Yes</td>\n",
       "      <td>Yes</td>\n",
       "      <td>1.0</td>\n",
       "      <td>MONEY</td>\n",
       "      <td>1.0</td>\n",
       "      <td>Merchant/Shop</td>\n",
       "      <td>School Fees (Education)</td>\n",
       "      <td>20000.0</td>\n",
       "      <td>2.0</td>\n",
       "      <td>0.0</td>\n",
       "      <td>0.0</td>\n",
       "      <td>10.0</td>\n",
       "      <td>2000.0</td>\n",
       "      <td>None</td>\n",
       "    </tr>\n",
       "  </tbody>\n",
       "</table>\n",
       "</div>"
      ],
      "text/plain": [
       "   Unnamed: 0  clid  hhid  r01  r02  r03             r04  r05  \\\n",
       "0           0   1.0   1.0  Yes  Yes  1.0  EDUCATION LOAN  1.0   \n",
       "1           1   1.0   2.0  Yes  Yes  1.0            LOAN  1.0   \n",
       "2           2   1.0   4.0  Yes  Yes  1.0            LOAN  1.0   \n",
       "3           3   1.0   6.0  Yes  Yes  1.0             NaN  1.0   \n",
       "4           4   2.0   3.0  Yes  Yes  1.0           MONEY  1.0   \n",
       "\n",
       "                          r06                                  r07      r08  \\\n",
       "0   Self-Help Groups/Chamas              School Fees (Education)    10000.0   \n",
       "1   Self-Help Groups/Chamas                    Subsistence Needs    10000.0   \n",
       "2   Self-Help Groups/Chamas    Purchase/Construction of Dwelling     4000.0   \n",
       "3   Self-Help Groups/Chamas                    Subsistence Needs    20000.0   \n",
       "4             Merchant/Shop              School Fees (Education)    20000.0   \n",
       "\n",
       "    r09  r10_m  r10_y   r11     r12          r13  \n",
       "0   NaN   10.0    NaN   6.0  4000.0     Shares    \n",
       "1  21.0   10.0    NaN   5.0     0.0     Shares    \n",
       "2   2.0   10.0    NaN   4.0     0.0     Shares    \n",
       "3   7.0    NaN   10.0  12.0     0.0  Livestock    \n",
       "4   2.0    0.0    0.0  10.0  2000.0        None   "
      ]
     },
     "execution_count": 125,
     "metadata": {},
     "output_type": "execute_result"
    }
   ],
   "source": [
    "credit.head()"
   ]
  },
  {
   "cell_type": "code",
   "execution_count": 126,
   "metadata": {},
   "outputs": [
    {
     "name": "stdout",
     "output_type": "stream",
     "text": [
      "<class 'pandas.core.frame.DataFrame'>\n",
      "RangeIndex: 9710 entries, 0 to 9709\n",
      "Data columns (total 17 columns):\n",
      "Unnamed: 0    9710 non-null int64\n",
      "clid          9710 non-null float64\n",
      "hhid          9710 non-null float64\n",
      "r01           9710 non-null object\n",
      "r02           9698 non-null object\n",
      "r03           9421 non-null float64\n",
      "r04           9342 non-null object\n",
      "r05           9419 non-null float64\n",
      "r06           9413 non-null object\n",
      "r07           9408 non-null object\n",
      "r08           9411 non-null float64\n",
      "r09           9382 non-null float64\n",
      "r10_m         8403 non-null float64\n",
      "r10_y         6798 non-null float64\n",
      "r11           9359 non-null float64\n",
      "r12           9401 non-null float64\n",
      "r13           8945 non-null object\n",
      "dtypes: float64(10), int64(1), object(6)\n",
      "memory usage: 1.3+ MB\n"
     ]
    }
   ],
   "source": [
    "credit.info()"
   ]
  },
  {
   "cell_type": "code",
   "execution_count": 127,
   "metadata": {},
   "outputs": [
    {
     "data": {
      "text/html": [
       "<div>\n",
       "<style scoped>\n",
       "    .dataframe tbody tr th:only-of-type {\n",
       "        vertical-align: middle;\n",
       "    }\n",
       "\n",
       "    .dataframe tbody tr th {\n",
       "        vertical-align: top;\n",
       "    }\n",
       "\n",
       "    .dataframe thead th {\n",
       "        text-align: right;\n",
       "    }\n",
       "</style>\n",
       "<table border=\"1\" class=\"dataframe\">\n",
       "  <thead>\n",
       "    <tr style=\"text-align: right;\">\n",
       "      <th></th>\n",
       "      <th>Unnamed: 0</th>\n",
       "      <th>clid</th>\n",
       "      <th>hhid</th>\n",
       "      <th>r03</th>\n",
       "      <th>r05</th>\n",
       "      <th>r08</th>\n",
       "      <th>r09</th>\n",
       "      <th>r10_m</th>\n",
       "      <th>r10_y</th>\n",
       "      <th>r11</th>\n",
       "      <th>r12</th>\n",
       "    </tr>\n",
       "  </thead>\n",
       "  <tbody>\n",
       "    <tr>\n",
       "      <td>count</td>\n",
       "      <td>9710.000000</td>\n",
       "      <td>9710.000000</td>\n",
       "      <td>9710.000000</td>\n",
       "      <td>9421.000000</td>\n",
       "      <td>9419.000000</td>\n",
       "      <td>9.411000e+03</td>\n",
       "      <td>9382.000000</td>\n",
       "      <td>8403.000000</td>\n",
       "      <td>6798.000000</td>\n",
       "      <td>9359.000000</td>\n",
       "      <td>9.401000e+03</td>\n",
       "    </tr>\n",
       "    <tr>\n",
       "      <td>mean</td>\n",
       "      <td>4854.500000</td>\n",
       "      <td>1164.215551</td>\n",
       "      <td>5.129969</td>\n",
       "      <td>1.452287</td>\n",
       "      <td>1.363521</td>\n",
       "      <td>5.989167e+04</td>\n",
       "      <td>10.968770</td>\n",
       "      <td>4.909877</td>\n",
       "      <td>4.705149</td>\n",
       "      <td>8.762795</td>\n",
       "      <td>3.418242e+04</td>\n",
       "    </tr>\n",
       "    <tr>\n",
       "      <td>std</td>\n",
       "      <td>2803.179891</td>\n",
       "      <td>695.605797</td>\n",
       "      <td>2.719714</td>\n",
       "      <td>0.951243</td>\n",
       "      <td>0.621285</td>\n",
       "      <td>2.634235e+05</td>\n",
       "      <td>28.528649</td>\n",
       "      <td>14.435655</td>\n",
       "      <td>13.671089</td>\n",
       "      <td>17.234672</td>\n",
       "      <td>1.680969e+05</td>\n",
       "    </tr>\n",
       "    <tr>\n",
       "      <td>min</td>\n",
       "      <td>0.000000</td>\n",
       "      <td>1.000000</td>\n",
       "      <td>1.000000</td>\n",
       "      <td>1.000000</td>\n",
       "      <td>1.000000</td>\n",
       "      <td>0.000000e+00</td>\n",
       "      <td>0.000000</td>\n",
       "      <td>0.000000</td>\n",
       "      <td>0.000000</td>\n",
       "      <td>0.000000</td>\n",
       "      <td>0.000000e+00</td>\n",
       "    </tr>\n",
       "    <tr>\n",
       "      <td>25%</td>\n",
       "      <td>2427.250000</td>\n",
       "      <td>541.000000</td>\n",
       "      <td>3.000000</td>\n",
       "      <td>1.000000</td>\n",
       "      <td>1.000000</td>\n",
       "      <td>2.000000e+03</td>\n",
       "      <td>1.000000</td>\n",
       "      <td>0.000000</td>\n",
       "      <td>0.000000</td>\n",
       "      <td>1.000000</td>\n",
       "      <td>0.000000e+00</td>\n",
       "    </tr>\n",
       "    <tr>\n",
       "      <td>50%</td>\n",
       "      <td>4854.500000</td>\n",
       "      <td>1159.000000</td>\n",
       "      <td>5.000000</td>\n",
       "      <td>1.000000</td>\n",
       "      <td>1.000000</td>\n",
       "      <td>6.000000e+03</td>\n",
       "      <td>1.000000</td>\n",
       "      <td>0.000000</td>\n",
       "      <td>0.000000</td>\n",
       "      <td>3.000000</td>\n",
       "      <td>1.000000e+03</td>\n",
       "    </tr>\n",
       "    <tr>\n",
       "      <td>75%</td>\n",
       "      <td>7281.750000</td>\n",
       "      <td>1780.750000</td>\n",
       "      <td>7.000000</td>\n",
       "      <td>2.000000</td>\n",
       "      <td>2.000000</td>\n",
       "      <td>3.000000e+04</td>\n",
       "      <td>8.000000</td>\n",
       "      <td>10.000000</td>\n",
       "      <td>7.000000</td>\n",
       "      <td>12.000000</td>\n",
       "      <td>1.000000e+04</td>\n",
       "    </tr>\n",
       "    <tr>\n",
       "      <td>max</td>\n",
       "      <td>9709.000000</td>\n",
       "      <td>2387.000000</td>\n",
       "      <td>10.000000</td>\n",
       "      <td>9.000000</td>\n",
       "      <td>13.000000</td>\n",
       "      <td>9.000000e+06</td>\n",
       "      <td>730.000000</td>\n",
       "      <td>500.000000</td>\n",
       "      <td>600.000000</td>\n",
       "      <td>998.000000</td>\n",
       "      <td>6.000000e+06</td>\n",
       "    </tr>\n",
       "  </tbody>\n",
       "</table>\n",
       "</div>"
      ],
      "text/plain": [
       "        Unnamed: 0         clid         hhid          r03          r05  \\\n",
       "count  9710.000000  9710.000000  9710.000000  9421.000000  9419.000000   \n",
       "mean   4854.500000  1164.215551     5.129969     1.452287     1.363521   \n",
       "std    2803.179891   695.605797     2.719714     0.951243     0.621285   \n",
       "min       0.000000     1.000000     1.000000     1.000000     1.000000   \n",
       "25%    2427.250000   541.000000     3.000000     1.000000     1.000000   \n",
       "50%    4854.500000  1159.000000     5.000000     1.000000     1.000000   \n",
       "75%    7281.750000  1780.750000     7.000000     2.000000     2.000000   \n",
       "max    9709.000000  2387.000000    10.000000     9.000000    13.000000   \n",
       "\n",
       "                r08          r09        r10_m        r10_y          r11  \\\n",
       "count  9.411000e+03  9382.000000  8403.000000  6798.000000  9359.000000   \n",
       "mean   5.989167e+04    10.968770     4.909877     4.705149     8.762795   \n",
       "std    2.634235e+05    28.528649    14.435655    13.671089    17.234672   \n",
       "min    0.000000e+00     0.000000     0.000000     0.000000     0.000000   \n",
       "25%    2.000000e+03     1.000000     0.000000     0.000000     1.000000   \n",
       "50%    6.000000e+03     1.000000     0.000000     0.000000     3.000000   \n",
       "75%    3.000000e+04     8.000000    10.000000     7.000000    12.000000   \n",
       "max    9.000000e+06   730.000000   500.000000   600.000000   998.000000   \n",
       "\n",
       "                r12  \n",
       "count  9.401000e+03  \n",
       "mean   3.418242e+04  \n",
       "std    1.680969e+05  \n",
       "min    0.000000e+00  \n",
       "25%    0.000000e+00  \n",
       "50%    1.000000e+03  \n",
       "75%    1.000000e+04  \n",
       "max    6.000000e+06  "
      ]
     },
     "execution_count": 127,
     "metadata": {},
     "output_type": "execute_result"
    }
   ],
   "source": [
    "credit.describe()"
   ]
  },
  {
   "cell_type": "markdown",
   "metadata": {},
   "source": [
    "Let's drop the 'Unnamed' column"
   ]
  },
  {
   "cell_type": "code",
   "execution_count": 128,
   "metadata": {},
   "outputs": [],
   "source": [
    "credit.drop('Unnamed: 0', axis=1, inplace=True)"
   ]
  },
  {
   "cell_type": "code",
   "execution_count": 129,
   "metadata": {
    "scrolled": true
   },
   "outputs": [
    {
     "data": {
      "text/html": [
       "<div>\n",
       "<style scoped>\n",
       "    .dataframe tbody tr th:only-of-type {\n",
       "        vertical-align: middle;\n",
       "    }\n",
       "\n",
       "    .dataframe tbody tr th {\n",
       "        vertical-align: top;\n",
       "    }\n",
       "\n",
       "    .dataframe thead th {\n",
       "        text-align: right;\n",
       "    }\n",
       "</style>\n",
       "<table border=\"1\" class=\"dataframe\">\n",
       "  <thead>\n",
       "    <tr style=\"text-align: right;\">\n",
       "      <th></th>\n",
       "      <th>clid</th>\n",
       "      <th>hhid</th>\n",
       "      <th>r01</th>\n",
       "      <th>r02</th>\n",
       "      <th>r03</th>\n",
       "      <th>r04</th>\n",
       "      <th>r05</th>\n",
       "      <th>r06</th>\n",
       "      <th>r07</th>\n",
       "      <th>r08</th>\n",
       "      <th>r09</th>\n",
       "      <th>r10_m</th>\n",
       "      <th>r10_y</th>\n",
       "      <th>r11</th>\n",
       "      <th>r12</th>\n",
       "      <th>r13</th>\n",
       "    </tr>\n",
       "  </thead>\n",
       "  <tbody>\n",
       "    <tr>\n",
       "      <td>0</td>\n",
       "      <td>1.0</td>\n",
       "      <td>1.0</td>\n",
       "      <td>Yes</td>\n",
       "      <td>Yes</td>\n",
       "      <td>1.0</td>\n",
       "      <td>EDUCATION LOAN</td>\n",
       "      <td>1.0</td>\n",
       "      <td>Self-Help Groups/Chamas</td>\n",
       "      <td>School Fees (Education)</td>\n",
       "      <td>10000.0</td>\n",
       "      <td>NaN</td>\n",
       "      <td>10.0</td>\n",
       "      <td>NaN</td>\n",
       "      <td>6.0</td>\n",
       "      <td>4000.0</td>\n",
       "      <td>Shares</td>\n",
       "    </tr>\n",
       "    <tr>\n",
       "      <td>1</td>\n",
       "      <td>1.0</td>\n",
       "      <td>2.0</td>\n",
       "      <td>Yes</td>\n",
       "      <td>Yes</td>\n",
       "      <td>1.0</td>\n",
       "      <td>LOAN</td>\n",
       "      <td>1.0</td>\n",
       "      <td>Self-Help Groups/Chamas</td>\n",
       "      <td>Subsistence Needs</td>\n",
       "      <td>10000.0</td>\n",
       "      <td>21.0</td>\n",
       "      <td>10.0</td>\n",
       "      <td>NaN</td>\n",
       "      <td>5.0</td>\n",
       "      <td>0.0</td>\n",
       "      <td>Shares</td>\n",
       "    </tr>\n",
       "    <tr>\n",
       "      <td>2</td>\n",
       "      <td>1.0</td>\n",
       "      <td>4.0</td>\n",
       "      <td>Yes</td>\n",
       "      <td>Yes</td>\n",
       "      <td>1.0</td>\n",
       "      <td>LOAN</td>\n",
       "      <td>1.0</td>\n",
       "      <td>Self-Help Groups/Chamas</td>\n",
       "      <td>Purchase/Construction of Dwelling</td>\n",
       "      <td>4000.0</td>\n",
       "      <td>2.0</td>\n",
       "      <td>10.0</td>\n",
       "      <td>NaN</td>\n",
       "      <td>4.0</td>\n",
       "      <td>0.0</td>\n",
       "      <td>Shares</td>\n",
       "    </tr>\n",
       "    <tr>\n",
       "      <td>3</td>\n",
       "      <td>1.0</td>\n",
       "      <td>6.0</td>\n",
       "      <td>Yes</td>\n",
       "      <td>Yes</td>\n",
       "      <td>1.0</td>\n",
       "      <td>NaN</td>\n",
       "      <td>1.0</td>\n",
       "      <td>Self-Help Groups/Chamas</td>\n",
       "      <td>Subsistence Needs</td>\n",
       "      <td>20000.0</td>\n",
       "      <td>7.0</td>\n",
       "      <td>NaN</td>\n",
       "      <td>10.0</td>\n",
       "      <td>12.0</td>\n",
       "      <td>0.0</td>\n",
       "      <td>Livestock</td>\n",
       "    </tr>\n",
       "    <tr>\n",
       "      <td>4</td>\n",
       "      <td>2.0</td>\n",
       "      <td>3.0</td>\n",
       "      <td>Yes</td>\n",
       "      <td>Yes</td>\n",
       "      <td>1.0</td>\n",
       "      <td>MONEY</td>\n",
       "      <td>1.0</td>\n",
       "      <td>Merchant/Shop</td>\n",
       "      <td>School Fees (Education)</td>\n",
       "      <td>20000.0</td>\n",
       "      <td>2.0</td>\n",
       "      <td>0.0</td>\n",
       "      <td>0.0</td>\n",
       "      <td>10.0</td>\n",
       "      <td>2000.0</td>\n",
       "      <td>None</td>\n",
       "    </tr>\n",
       "  </tbody>\n",
       "</table>\n",
       "</div>"
      ],
      "text/plain": [
       "   clid  hhid  r01  r02  r03             r04  r05                         r06  \\\n",
       "0   1.0   1.0  Yes  Yes  1.0  EDUCATION LOAN  1.0   Self-Help Groups/Chamas     \n",
       "1   1.0   2.0  Yes  Yes  1.0            LOAN  1.0   Self-Help Groups/Chamas     \n",
       "2   1.0   4.0  Yes  Yes  1.0            LOAN  1.0   Self-Help Groups/Chamas     \n",
       "3   1.0   6.0  Yes  Yes  1.0             NaN  1.0   Self-Help Groups/Chamas     \n",
       "4   2.0   3.0  Yes  Yes  1.0           MONEY  1.0             Merchant/Shop     \n",
       "\n",
       "                                   r07      r08   r09  r10_m  r10_y   r11  \\\n",
       "0            School Fees (Education)    10000.0   NaN   10.0    NaN   6.0   \n",
       "1                  Subsistence Needs    10000.0  21.0   10.0    NaN   5.0   \n",
       "2  Purchase/Construction of Dwelling     4000.0   2.0   10.0    NaN   4.0   \n",
       "3                  Subsistence Needs    20000.0   7.0    NaN   10.0  12.0   \n",
       "4            School Fees (Education)    20000.0   2.0    0.0    0.0  10.0   \n",
       "\n",
       "      r12          r13  \n",
       "0  4000.0     Shares    \n",
       "1     0.0     Shares    \n",
       "2     0.0     Shares    \n",
       "3     0.0  Livestock    \n",
       "4  2000.0        None   "
      ]
     },
     "execution_count": 129,
     "metadata": {},
     "output_type": "execute_result"
    }
   ],
   "source": [
    "credit.head()"
   ]
  },
  {
   "cell_type": "markdown",
   "metadata": {},
   "source": [
    "# Missing Data"
   ]
  },
  {
   "cell_type": "markdown",
   "metadata": {},
   "source": [
    "Use seaborn's heatmap to view missing data"
   ]
  },
  {
   "cell_type": "code",
   "execution_count": 130,
   "metadata": {},
   "outputs": [
    {
     "data": {
      "text/plain": [
       "<matplotlib.axes._subplots.AxesSubplot at 0x7ff62a1c4790>"
      ]
     },
     "execution_count": 130,
     "metadata": {},
     "output_type": "execute_result"
    },
    {
     "data": {
      "image/png": "[encoded data removed]",
      "text/plain": [
       "<Figure size 432x288 with 1 Axes>"
      ]
     },
     "metadata": {
      "needs_background": "light"
     },
     "output_type": "display_data"
    }
   ],
   "source": [
    "sns.heatmap(credit.isnull(), cbar=False, yticklabels=False, cmap='viridis')"
   ]
  },
  {
   "cell_type": "markdown",
   "metadata": {},
   "source": [
    "**A method to view the actual no. of missing data points**"
   ]
  },
  {
   "cell_type": "code",
   "execution_count": 131,
   "metadata": {},
   "outputs": [
    {
     "name": "stdout",
     "output_type": "stream",
     "text": [
      "clid \n",
      " False    9710\n",
      "Name: clid, dtype: int64\n",
      "\n",
      "\n",
      "hhid \n",
      " False    9710\n",
      "Name: hhid, dtype: int64\n",
      "\n",
      "\n",
      "r01 \n",
      " False    9710\n",
      "Name: r01, dtype: int64\n",
      "\n",
      "\n",
      "r02 \n",
      " False    9698\n",
      "True       12\n",
      "Name: r02, dtype: int64\n",
      "\n",
      "\n",
      "r03 \n",
      " False    9421\n",
      "True      289\n",
      "Name: r03, dtype: int64\n",
      "\n",
      "\n",
      "r04 \n",
      " False    9342\n",
      "True      368\n",
      "Name: r04, dtype: int64\n",
      "\n",
      "\n",
      "r05 \n",
      " False    9419\n",
      "True      291\n",
      "Name: r05, dtype: int64\n",
      "\n",
      "\n",
      "r06 \n",
      " False    9413\n",
      "True      297\n",
      "Name: r06, dtype: int64\n",
      "\n",
      "\n",
      "r07 \n",
      " False    9408\n",
      "True      302\n",
      "Name: r07, dtype: int64\n",
      "\n",
      "\n",
      "r08 \n",
      " False    9411\n",
      "True      299\n",
      "Name: r08, dtype: int64\n",
      "\n",
      "\n",
      "r09 \n",
      " False    9382\n",
      "True      328\n",
      "Name: r09, dtype: int64\n",
      "\n",
      "\n",
      "r10_m \n",
      " False    8403\n",
      "True     1307\n",
      "Name: r10_m, dtype: int64\n",
      "\n",
      "\n",
      "r10_y \n",
      " False    6798\n",
      "True     2912\n",
      "Name: r10_y, dtype: int64\n",
      "\n",
      "\n",
      "r11 \n",
      " False    9359\n",
      "True      351\n",
      "Name: r11, dtype: int64\n",
      "\n",
      "\n",
      "r12 \n",
      " False    9401\n",
      "True      309\n",
      "Name: r12, dtype: int64\n",
      "\n",
      "\n",
      "r13 \n",
      " False    8945\n",
      "True      765\n",
      "Name: r13, dtype: int64\n",
      "\n",
      "\n"
     ]
    }
   ],
   "source": [
    "for column in credit.columns:\n",
    "    print(column, '\\n', credit[column].isnull().value_counts())\n",
    "    print('\\n')"
   ]
  },
  {
   "cell_type": "markdown",
   "metadata": {},
   "source": [
    "Note that data start to miss at the 'r02' column onwards\n",
    "\n",
    "Let's act on each column at a time"
   ]
  },
  {
   "cell_type": "code",
   "execution_count": 132,
   "metadata": {},
   "outputs": [
    {
     "data": {
      "text/plain": [
       "2"
      ]
     },
     "execution_count": 132,
     "metadata": {},
     "output_type": "execute_result"
    }
   ],
   "source": [
    "# View the no. of unique entries\n",
    "\n",
    "credit['r02'].nunique()"
   ]
  },
  {
   "cell_type": "code",
   "execution_count": 133,
   "metadata": {},
   "outputs": [
    {
     "data": {
      "text/plain": [
       "Yes    9421\n",
       "No      277\n",
       "Name: r02, dtype: int64"
      ]
     },
     "execution_count": 133,
     "metadata": {},
     "output_type": "execute_result"
    }
   ],
   "source": [
    "#no. of counts\n",
    "\n",
    "credit['r02'].value_counts()"
   ]
  },
  {
   "cell_type": "markdown",
   "metadata": {},
   "source": [
    "**Since this column is somewhat related to the 'r01' column, we may use information on that column to help fill the missing data points**"
   ]
  },
  {
   "cell_type": "code",
   "execution_count": 134,
   "metadata": {},
   "outputs": [],
   "source": [
    "credit['r02'].fillna('Yes', inplace=True)"
   ]
  },
  {
   "cell_type": "code",
   "execution_count": 135,
   "metadata": {},
   "outputs": [
    {
     "data": {
      "text/plain": [
       "False    9710\n",
       "Name: r02, dtype: int64"
      ]
     },
     "execution_count": 135,
     "metadata": {},
     "output_type": "execute_result"
    }
   ],
   "source": [
    "credit['r02'].isnull().value_counts()"
   ]
  },
  {
   "cell_type": "markdown",
   "metadata": {},
   "source": [
    "**Now on to the 'r03' column**"
   ]
  },
  {
   "cell_type": "code",
   "execution_count": 136,
   "metadata": {},
   "outputs": [
    {
     "data": {
      "text/plain": [
       "1.0    6904\n",
       "2.0    1573\n",
       "3.0     490\n",
       "4.0     243\n",
       "5.0     125\n",
       "6.0      54\n",
       "7.0      19\n",
       "8.0       9\n",
       "9.0       4\n",
       "Name: r03, dtype: int64"
      ]
     },
     "execution_count": 136,
     "metadata": {},
     "output_type": "execute_result"
    }
   ],
   "source": [
    "#this column has 289 missing data points\n",
    "\n",
    "credit['r03'].value_counts()"
   ]
  },
  {
   "cell_type": "code",
   "execution_count": 137,
   "metadata": {},
   "outputs": [
    {
     "data": {
      "text/plain": [
       "False    9421\n",
       "True      289\n",
       "Name: r03, dtype: int64"
      ]
     },
     "execution_count": 137,
     "metadata": {},
     "output_type": "execute_result"
    }
   ],
   "source": [
    "credit['r03'].isnull().value_counts()"
   ]
  },
  {
   "cell_type": "markdown",
   "metadata": {},
   "source": [
    "Let's fill the first approximate half of the data with 1.0 and the other with 2.0\n",
    "\n",
    "These are the two values in the column that can bring about significant change"
   ]
  },
  {
   "cell_type": "code",
   "execution_count": 138,
   "metadata": {},
   "outputs": [],
   "source": [
    "credit['r03'][:5000].fillna(value=1.0, inplace=True)\n",
    "credit['r03'][4999:].fillna(value=2.0, inplace=True)"
   ]
  },
  {
   "cell_type": "code",
   "execution_count": 139,
   "metadata": {},
   "outputs": [
    {
     "data": {
      "text/plain": [
       "False    9710\n",
       "Name: r03, dtype: int64"
      ]
     },
     "execution_count": 139,
     "metadata": {},
     "output_type": "execute_result"
    }
   ],
   "source": [
    "credit['r03'].isnull().value_counts()"
   ]
  },
  {
   "cell_type": "markdown",
   "metadata": {},
   "source": [
    "**On to the 'r04' column**"
   ]
  },
  {
   "cell_type": "code",
   "execution_count": 140,
   "metadata": {},
   "outputs": [
    {
     "data": {
      "text/plain": [
       "1925"
      ]
     },
     "execution_count": 140,
     "metadata": {},
     "output_type": "execute_result"
    }
   ],
   "source": [
    "credit['r04'].nunique()"
   ]
  },
  {
   "cell_type": "code",
   "execution_count": 141,
   "metadata": {},
   "outputs": [
    {
     "data": {
      "text/plain": [
       "CASH                   1477\n",
       "CHAMA LOAN              376\n",
       "SUGAR                   315\n",
       "SACCO LOAN              235\n",
       "FOOD ITEMS              233\n",
       "                       ... \n",
       "SISTER                    1\n",
       "MILK CO-OP SOCIETY        1\n",
       "CASH FROM CHURCH          1\n",
       "ORIEMBO MUHUADH W.G       1\n",
       "1/2 SACK                  1\n",
       "Name: r04, Length: 1925, dtype: int64"
      ]
     },
     "execution_count": 141,
     "metadata": {},
     "output_type": "execute_result"
    }
   ],
   "source": [
    "credit['r04'].value_counts()"
   ]
  },
  {
   "cell_type": "code",
   "execution_count": 142,
   "metadata": {},
   "outputs": [],
   "source": [
    "# CASH seems to be the dominant variable in this column\n",
    "# there are 368 missing data points\n",
    "# these alone are nearly equal to some of the variables total\n",
    "# so we may fill up all the missing data with CASH"
   ]
  },
  {
   "cell_type": "code",
   "execution_count": 143,
   "metadata": {},
   "outputs": [],
   "source": [
    "credit['r04'].fillna(value='CASH', inplace=True)"
   ]
  },
  {
   "cell_type": "code",
   "execution_count": 144,
   "metadata": {},
   "outputs": [
    {
     "data": {
      "text/plain": [
       "False    9710\n",
       "Name: r04, dtype: int64"
      ]
     },
     "execution_count": 144,
     "metadata": {},
     "output_type": "execute_result"
    }
   ],
   "source": [
    "credit['r04'].isnull().value_counts()"
   ]
  },
  {
   "cell_type": "markdown",
   "metadata": {},
   "source": [
    "**On to the 'r05' column**"
   ]
  },
  {
   "cell_type": "code",
   "execution_count": 145,
   "metadata": {},
   "outputs": [
    {
     "data": {
      "text/plain": [
       "11"
      ]
     },
     "execution_count": 145,
     "metadata": {},
     "output_type": "execute_result"
    }
   ],
   "source": [
    "# this column is missing 291 data points\n",
    "\n",
    "credit['r05'].nunique()"
   ]
  },
  {
   "cell_type": "code",
   "execution_count": 146,
   "metadata": {},
   "outputs": [
    {
     "data": {
      "text/plain": [
       "1.0     6341\n",
       "2.0     2897\n",
       "3.0      109\n",
       "4.0       32\n",
       "5.0       15\n",
       "6.0       13\n",
       "7.0        7\n",
       "9.0        2\n",
       "13.0       1\n",
       "12.0       1\n",
       "8.0        1\n",
       "Name: r05, dtype: int64"
      ]
     },
     "execution_count": 146,
     "metadata": {},
     "output_type": "execute_result"
    }
   ],
   "source": [
    "credit['r05'].value_counts()"
   ]
  },
  {
   "cell_type": "code",
   "execution_count": 147,
   "metadata": {},
   "outputs": [
    {
     "name": "stdout",
     "output_type": "stream",
     "text": [
      "1.3635205435821212\n",
      "1.3541881045482609\n",
      "1.3733830300372725\n"
     ]
    }
   ],
   "source": [
    "# most of the values are 1's and 2's\n",
    "\n",
    "print(credit['r05'].mean())\n",
    "print(credit['r05'][:5000].mean())\n",
    "print(credit['r05'][4999:].mean())"
   ]
  },
  {
   "cell_type": "markdown",
   "metadata": {},
   "source": [
    "**Let's fill the first approximate half with 1's and the rest with 2's**"
   ]
  },
  {
   "cell_type": "code",
   "execution_count": 148,
   "metadata": {},
   "outputs": [],
   "source": [
    "credit['r05'][:5000].fillna(value=1.0, inplace=True)"
   ]
  },
  {
   "cell_type": "code",
   "execution_count": 149,
   "metadata": {},
   "outputs": [],
   "source": [
    "credit['r05'][4999:].fillna(value=2.0, inplace=True)"
   ]
  },
  {
   "cell_type": "code",
   "execution_count": 150,
   "metadata": {},
   "outputs": [
    {
     "data": {
      "text/plain": [
       "False    9710\n",
       "Name: r05, dtype: int64"
      ]
     },
     "execution_count": 150,
     "metadata": {},
     "output_type": "execute_result"
    }
   ],
   "source": [
    "credit['r05'].isnull().value_counts()"
   ]
  },
  {
   "cell_type": "markdown",
   "metadata": {},
   "source": [
    "**On to the 'r06' column**"
   ]
  },
  {
   "cell_type": "code",
   "execution_count": 151,
   "metadata": {},
   "outputs": [
    {
     "data": {
      "text/plain": [
       "False    9413\n",
       "True      297\n",
       "Name: r06, dtype: int64"
      ]
     },
     "execution_count": 151,
     "metadata": {},
     "output_type": "execute_result"
    }
   ],
   "source": [
    "# this column has 297 missing data points\n",
    "\n",
    "credit['r06'].isnull().value_counts()"
   ]
  },
  {
   "cell_type": "code",
   "execution_count": 152,
   "metadata": {},
   "outputs": [
    {
     "data": {
      "text/plain": [
       " Merchant/Shop                   2364\n",
       " Self-Help Groups/Chamas         2070\n",
       " Relative/ Friend/Neighbour      1310\n",
       " Saccos                          1112\n",
       " Commercial Banks                 862\n",
       " Micro-Finance Inst               668\n",
       " Mobile Phone Platform            483\n",
       " Ngo                              126\n",
       " Money Lender(Shylock )           119\n",
       " Government Funds                 114\n",
       " Employer                         106\n",
       " Other                             43\n",
       " Religious Inst                    30\n",
       " Mortgage  Finance                  3\n",
       " Insurance Company                  3\n",
       "Name: r06, dtype: int64"
      ]
     },
     "execution_count": 152,
     "metadata": {},
     "output_type": "execute_result"
    }
   ],
   "source": [
    "credit['r06'].value_counts() "
   ]
  },
  {
   "cell_type": "markdown",
   "metadata": {},
   "source": [
    "We may divide the data into 4, since the first 4 entries above are the dominant, then fill each one of them in each quarter as follows"
   ]
  },
  {
   "cell_type": "code",
   "execution_count": 153,
   "metadata": {},
   "outputs": [],
   "source": [
    "credit['r06'][:2500].fillna(value='Merchant/Shop', inplace=True)\n",
    "credit['r06'][2499:5000].fillna(value='Self-Help Groups/Chamas', inplace=True)\n",
    "credit['r06'][4999:7500].fillna(value='Relative/ Friend/Neighbour', inplace=True)\n",
    "credit['r06'][7499:].fillna(value='Saccos', inplace=True)"
   ]
  },
  {
   "cell_type": "code",
   "execution_count": 154,
   "metadata": {},
   "outputs": [
    {
     "data": {
      "text/plain": [
       "False    9710\n",
       "Name: r06, dtype: int64"
      ]
     },
     "execution_count": 154,
     "metadata": {},
     "output_type": "execute_result"
    }
   ],
   "source": [
    "credit['r06'].isnull().value_counts()"
   ]
  },
  {
   "cell_type": "markdown",
   "metadata": {},
   "source": [
    "**On to the 'r07' column**"
   ]
  },
  {
   "cell_type": "code",
   "execution_count": 155,
   "metadata": {},
   "outputs": [
    {
     "data": {
      "text/plain": [
       "False    9408\n",
       "True      302\n",
       "Name: r07, dtype: int64"
      ]
     },
     "execution_count": 155,
     "metadata": {},
     "output_type": "execute_result"
    }
   ],
   "source": [
    "#this column has 302 missing data points\n",
    "\n",
    "credit['r07'].isnull().value_counts()"
   ]
  },
  {
   "cell_type": "code",
   "execution_count": 156,
   "metadata": {},
   "outputs": [
    {
     "data": {
      "text/plain": [
       "Subsistence Needs                       4051\n",
       "School Fees (Education)                 1891\n",
       "Business/Investment                     1400\n",
       "Purchase of Agricultural Inputs          486\n",
       "Medical Expense                          371\n",
       "Purchase/Construction of Dwelling        368\n",
       "Other                                    300\n",
       "Purchase of Land                         227\n",
       "Purchase of Livestock                    129\n",
       "Ceremony/Wedding                          86\n",
       "Purchase of Motor Vehicles/Cycles         80\n",
       "Purchase of Agricultural Machinery        19\n",
       "Name: r07, dtype: int64"
      ]
     },
     "execution_count": 156,
     "metadata": {},
     "output_type": "execute_result"
    }
   ],
   "source": [
    "credit['r07'].value_counts()"
   ]
  },
  {
   "cell_type": "markdown",
   "metadata": {},
   "source": [
    "**We divide the data into 3(since there are 3 dominant entries) and fill accordingly**"
   ]
  },
  {
   "cell_type": "code",
   "execution_count": 157,
   "metadata": {},
   "outputs": [],
   "source": [
    "credit['r07'][:3000].fillna(value='Subsistence Needs', inplace=True)\n",
    "credit['r07'][2999:6000].fillna(value='School Fees (Education)', inplace=True)\n",
    "credit['r07'][5999:].fillna(value='Business/Investment', inplace=True)"
   ]
  },
  {
   "cell_type": "code",
   "execution_count": 158,
   "metadata": {},
   "outputs": [
    {
     "data": {
      "text/plain": [
       "False    9710\n",
       "Name: r07, dtype: int64"
      ]
     },
     "execution_count": 158,
     "metadata": {},
     "output_type": "execute_result"
    }
   ],
   "source": [
    "credit['r07'].isnull().value_counts()"
   ]
  },
  {
   "cell_type": "markdown",
   "metadata": {},
   "source": [
    "**On to the 'r08' column**"
   ]
  },
  {
   "cell_type": "code",
   "execution_count": 159,
   "metadata": {},
   "outputs": [
    {
     "data": {
      "text/plain": [
       "False    9411\n",
       "True      299\n",
       "Name: r08, dtype: int64"
      ]
     },
     "execution_count": 159,
     "metadata": {},
     "output_type": "execute_result"
    }
   ],
   "source": [
    "# 299 missing data points\n",
    "\n",
    "credit['r08'].isnull().value_counts()"
   ]
  },
  {
   "cell_type": "code",
   "execution_count": 160,
   "metadata": {},
   "outputs": [
    {
     "data": {
      "text/plain": [
       "10000.0     616\n",
       "2000.0      572\n",
       "5000.0      551\n",
       "20000.0     498\n",
       "3000.0      448\n",
       "           ... \n",
       "1650.0        1\n",
       "778000.0      1\n",
       "7870.0        1\n",
       "5800.0        1\n",
       "12800.0       1\n",
       "Name: r08, Length: 392, dtype: int64"
      ]
     },
     "execution_count": 160,
     "metadata": {},
     "output_type": "execute_result"
    }
   ],
   "source": [
    "credit['r08'].value_counts()"
   ]
  },
  {
   "cell_type": "code",
   "execution_count": 161,
   "metadata": {},
   "outputs": [
    {
     "name": "stdout",
     "output_type": "stream",
     "text": [
      "59891.66783551164\n",
      "6000.0\n"
     ]
    }
   ],
   "source": [
    "print(credit['r08'].mean())\n",
    "print(credit['r08'].median())"
   ]
  },
  {
   "cell_type": "markdown",
   "metadata": {},
   "source": [
    "**Let's impute with the median value 6000.0**"
   ]
  },
  {
   "cell_type": "code",
   "execution_count": 162,
   "metadata": {},
   "outputs": [],
   "source": [
    "credit['r08'].fillna(credit['r08'].median(), inplace=True)"
   ]
  },
  {
   "cell_type": "code",
   "execution_count": 163,
   "metadata": {},
   "outputs": [
    {
     "data": {
      "text/plain": [
       "False    9710\n",
       "Name: r08, dtype: int64"
      ]
     },
     "execution_count": 163,
     "metadata": {},
     "output_type": "execute_result"
    }
   ],
   "source": [
    "credit['r08'].isnull().value_counts()"
   ]
  },
  {
   "cell_type": "markdown",
   "metadata": {},
   "source": [
    "**On to the 'r09' column**"
   ]
  },
  {
   "cell_type": "code",
   "execution_count": 164,
   "metadata": {},
   "outputs": [
    {
     "data": {
      "text/plain": [
       "False    9382\n",
       "True      328\n",
       "Name: r09, dtype: int64"
      ]
     },
     "execution_count": 164,
     "metadata": {},
     "output_type": "execute_result"
    }
   ],
   "source": [
    "#328 missing data points\n",
    "\n",
    "credit['r09'].isnull().value_counts()"
   ]
  },
  {
   "cell_type": "code",
   "execution_count": 165,
   "metadata": {},
   "outputs": [
    {
     "data": {
      "text/plain": [
       "1.0      2990\n",
       "0.0      1893\n",
       "30.0     1027\n",
       "7.0       861\n",
       "2.0       575\n",
       "14.0      532\n",
       "3.0       370\n",
       "5.0       166\n",
       "60.0      164\n",
       "4.0       147\n",
       "90.0      126\n",
       "21.0      114\n",
       "10.0       83\n",
       "20.0       47\n",
       "15.0       27\n",
       "120.0      26\n",
       "180.0      24\n",
       "6.0        23\n",
       "150.0      18\n",
       "365.0      17\n",
       "Name: r09, dtype: int64"
      ]
     },
     "execution_count": 165,
     "metadata": {},
     "output_type": "execute_result"
    }
   ],
   "source": [
    "credit['r09'].value_counts().head(20)"
   ]
  },
  {
   "cell_type": "code",
   "execution_count": 166,
   "metadata": {},
   "outputs": [
    {
     "name": "stdout",
     "output_type": "stream",
     "text": [
      "10.968769985077808\n",
      "1.0\n"
     ]
    }
   ],
   "source": [
    "print(credit['r09'].mean())\n",
    "print(credit['r09'].median())"
   ]
  },
  {
   "cell_type": "markdown",
   "metadata": {},
   "source": [
    "**Let's apply mean to the first approximate half of the data, and median to the rest**"
   ]
  },
  {
   "cell_type": "code",
   "execution_count": 167,
   "metadata": {},
   "outputs": [],
   "source": [
    "credit['r09'][:5000].fillna(value=10.0, inplace=True)\n",
    "credit['r09'][4999:].fillna(value=1.0, inplace=True)"
   ]
  },
  {
   "cell_type": "code",
   "execution_count": 168,
   "metadata": {},
   "outputs": [
    {
     "data": {
      "text/plain": [
       "False    9710\n",
       "Name: r09, dtype: int64"
      ]
     },
     "execution_count": 168,
     "metadata": {},
     "output_type": "execute_result"
    }
   ],
   "source": [
    "credit['r09'].isnull().value_counts()"
   ]
  },
  {
   "cell_type": "markdown",
   "metadata": {},
   "source": [
    "**On to the 'r10_m' column**"
   ]
  },
  {
   "cell_type": "code",
   "execution_count": 169,
   "metadata": {},
   "outputs": [
    {
     "data": {
      "text/plain": [
       "False    8403\n",
       "True     1307\n",
       "Name: r10_m, dtype: int64"
      ]
     },
     "execution_count": 169,
     "metadata": {},
     "output_type": "execute_result"
    }
   ],
   "source": [
    "# 1307 missing data points\n",
    "\n",
    "credit['r10_m'].isnull().value_counts()"
   ]
  },
  {
   "cell_type": "code",
   "execution_count": 170,
   "metadata": {},
   "outputs": [
    {
     "data": {
      "text/plain": [
       "0.0     4515\n",
       "10.0    1683\n",
       "1.0      389\n",
       "20.0     265\n",
       "5.0      170\n",
       "2.0      140\n",
       "12.0     105\n",
       "15.0      88\n",
       "7.5       83\n",
       "18.0      78\n",
       "8.0       66\n",
       "30.0      50\n",
       "7.0       43\n",
       "3.0       42\n",
       "0.1       42\n",
       "4.0       41\n",
       "6.0       41\n",
       "16.0      39\n",
       "1.5       38\n",
       "25.0      35\n",
       "Name: r10_m, dtype: int64"
      ]
     },
     "execution_count": 170,
     "metadata": {},
     "output_type": "execute_result"
    }
   ],
   "source": [
    "credit['r10_m'].value_counts().head(20)"
   ]
  },
  {
   "cell_type": "code",
   "execution_count": 171,
   "metadata": {},
   "outputs": [
    {
     "name": "stdout",
     "output_type": "stream",
     "text": [
      "4.909877424729263\n",
      "0.0\n"
     ]
    }
   ],
   "source": [
    "print(credit['r10_m'].mean())\n",
    "print(credit['r10_m'].median())"
   ]
  },
  {
   "cell_type": "markdown",
   "metadata": {},
   "source": [
    "**We impute mean to the first approximate 1/3 of the data, median to the second approximate 1/3 and the value 10.0(it's dominant from the stats above) to the last approximate 1/3**"
   ]
  },
  {
   "cell_type": "code",
   "execution_count": 172,
   "metadata": {},
   "outputs": [],
   "source": [
    "credit['r10_m'][:3000].fillna(value=4.0, inplace=True)\n",
    "credit['r10_m'][2999:6000].fillna(value=0.0, inplace=True)\n",
    "credit['r10_m'][5999:].fillna(value=10.0, inplace=True)"
   ]
  },
  {
   "cell_type": "code",
   "execution_count": 173,
   "metadata": {},
   "outputs": [
    {
     "data": {
      "text/plain": [
       "False    9710\n",
       "Name: r10_m, dtype: int64"
      ]
     },
     "execution_count": 173,
     "metadata": {},
     "output_type": "execute_result"
    }
   ],
   "source": [
    "credit['r10_m'].isnull().value_counts()"
   ]
  },
  {
   "cell_type": "markdown",
   "metadata": {},
   "source": [
    "**On to the 'r10_y' column**"
   ]
  },
  {
   "cell_type": "code",
   "execution_count": 174,
   "metadata": {},
   "outputs": [
    {
     "data": {
      "text/plain": [
       "False    6798\n",
       "True     2912\n",
       "Name: r10_y, dtype: int64"
      ]
     },
     "execution_count": 174,
     "metadata": {},
     "output_type": "execute_result"
    }
   ],
   "source": [
    "# 2912 missing data points\n",
    "\n",
    "credit['r10_y'].isnull().value_counts()"
   ]
  },
  {
   "cell_type": "code",
   "execution_count": 175,
   "metadata": {},
   "outputs": [
    {
     "data": {
      "text/plain": [
       "0.0     4847\n",
       "12.0     314\n",
       "10.0     263\n",
       "20.0     245\n",
       "18.0     173\n",
       "16.0      91\n",
       "15.0      86\n",
       "24.0      62\n",
       "5.0       46\n",
       "17.0      41\n",
       "21.0      40\n",
       "4.0       36\n",
       "1.0       35\n",
       "22.0      30\n",
       "14.0      29\n",
       "19.0      25\n",
       "2.0       22\n",
       "12.5      19\n",
       "13.0      18\n",
       "25.0      18\n",
       "Name: r10_y, dtype: int64"
      ]
     },
     "execution_count": 175,
     "metadata": {},
     "output_type": "execute_result"
    }
   ],
   "source": [
    "credit['r10_y'].value_counts().head(20)"
   ]
  },
  {
   "cell_type": "code",
   "execution_count": 176,
   "metadata": {},
   "outputs": [
    {
     "name": "stdout",
     "output_type": "stream",
     "text": [
      "4.705148573109738\n",
      "0.0\n"
     ]
    }
   ],
   "source": [
    "print(credit['r10_y'].mean())\n",
    "print(credit['r10_y'].median())"
   ]
  },
  {
   "cell_type": "markdown",
   "metadata": {},
   "source": [
    "**Note: The number of missing data points is too high**\n",
    "\n",
    "In this case we can't impute mean to the approximate 1/2(as you may have guessed we would have done) of the data and median to the rest\n",
    "\n",
    "This is because instances of the value 4.0 would rise past many of those outlined above, and that would render the data inconsistent"
   ]
  },
  {
   "cell_type": "markdown",
   "metadata": {},
   "source": [
    "Let's design a function that is going to impute the dominant values 0.0, 12.0, 10.0, 20.0 and 18.0 randomly through the missing points "
   ]
  },
  {
   "cell_type": "code",
   "execution_count": 263,
   "metadata": {},
   "outputs": [],
   "source": [
    "values = np.array([0.0, 12.0, 10.0, 20.0, 18.0])\n",
    "def imputer(colval):\n",
    "    if colval == 'empty':\n",
    "        np.random.shuffle(values)\n",
    "        return values[0]\n",
    "    else:\n",
    "        return colval"
   ]
  },
  {
   "cell_type": "code",
   "execution_count": 269,
   "metadata": {},
   "outputs": [],
   "source": [
    "credit['r10_y'].fillna(value='empty', inplace=True)"
   ]
  },
  {
   "cell_type": "code",
   "execution_count": 271,
   "metadata": {},
   "outputs": [],
   "source": [
    "credit['r10_y'] = credit['r10_y'].apply(imputer)"
   ]
  },
  {
   "cell_type": "code",
   "execution_count": 276,
   "metadata": {},
   "outputs": [
    {
     "data": {
      "text/html": [
       "<div>\n",
       "<style scoped>\n",
       "    .dataframe tbody tr th:only-of-type {\n",
       "        vertical-align: middle;\n",
       "    }\n",
       "\n",
       "    .dataframe tbody tr th {\n",
       "        vertical-align: top;\n",
       "    }\n",
       "\n",
       "    .dataframe thead th {\n",
       "        text-align: right;\n",
       "    }\n",
       "</style>\n",
       "<table border=\"1\" class=\"dataframe\">\n",
       "  <thead>\n",
       "    <tr style=\"text-align: right;\">\n",
       "      <th></th>\n",
       "      <th>clid</th>\n",
       "      <th>hhid</th>\n",
       "      <th>r01</th>\n",
       "      <th>r02</th>\n",
       "      <th>r03</th>\n",
       "      <th>r04</th>\n",
       "      <th>r05</th>\n",
       "      <th>r06</th>\n",
       "      <th>r07</th>\n",
       "      <th>r08</th>\n",
       "      <th>r09</th>\n",
       "      <th>r10_m</th>\n",
       "      <th>r10_y</th>\n",
       "      <th>r11</th>\n",
       "      <th>r12</th>\n",
       "      <th>r13</th>\n",
       "    </tr>\n",
       "  </thead>\n",
       "  <tbody>\n",
       "    <tr>\n",
       "      <td>0</td>\n",
       "      <td>1.0</td>\n",
       "      <td>1.0</td>\n",
       "      <td>Yes</td>\n",
       "      <td>Yes</td>\n",
       "      <td>1.0</td>\n",
       "      <td>EDUCATION LOAN</td>\n",
       "      <td>1.0</td>\n",
       "      <td>Self-Help Groups/Chamas</td>\n",
       "      <td>School Fees (Education)</td>\n",
       "      <td>10000.0</td>\n",
       "      <td>10.0</td>\n",
       "      <td>10.0</td>\n",
       "      <td>20.0</td>\n",
       "      <td>6.0</td>\n",
       "      <td>4000.0</td>\n",
       "      <td>Shares</td>\n",
       "    </tr>\n",
       "    <tr>\n",
       "      <td>1</td>\n",
       "      <td>1.0</td>\n",
       "      <td>2.0</td>\n",
       "      <td>Yes</td>\n",
       "      <td>Yes</td>\n",
       "      <td>1.0</td>\n",
       "      <td>LOAN</td>\n",
       "      <td>1.0</td>\n",
       "      <td>Self-Help Groups/Chamas</td>\n",
       "      <td>Subsistence Needs</td>\n",
       "      <td>10000.0</td>\n",
       "      <td>21.0</td>\n",
       "      <td>10.0</td>\n",
       "      <td>20.0</td>\n",
       "      <td>5.0</td>\n",
       "      <td>0.0</td>\n",
       "      <td>Shares</td>\n",
       "    </tr>\n",
       "    <tr>\n",
       "      <td>2</td>\n",
       "      <td>1.0</td>\n",
       "      <td>4.0</td>\n",
       "      <td>Yes</td>\n",
       "      <td>Yes</td>\n",
       "      <td>1.0</td>\n",
       "      <td>LOAN</td>\n",
       "      <td>1.0</td>\n",
       "      <td>Self-Help Groups/Chamas</td>\n",
       "      <td>Purchase/Construction of Dwelling</td>\n",
       "      <td>4000.0</td>\n",
       "      <td>2.0</td>\n",
       "      <td>10.0</td>\n",
       "      <td>0.0</td>\n",
       "      <td>4.0</td>\n",
       "      <td>0.0</td>\n",
       "      <td>Shares</td>\n",
       "    </tr>\n",
       "    <tr>\n",
       "      <td>3</td>\n",
       "      <td>1.0</td>\n",
       "      <td>6.0</td>\n",
       "      <td>Yes</td>\n",
       "      <td>Yes</td>\n",
       "      <td>1.0</td>\n",
       "      <td>CASH</td>\n",
       "      <td>1.0</td>\n",
       "      <td>Self-Help Groups/Chamas</td>\n",
       "      <td>Subsistence Needs</td>\n",
       "      <td>20000.0</td>\n",
       "      <td>7.0</td>\n",
       "      <td>4.0</td>\n",
       "      <td>10.0</td>\n",
       "      <td>12.0</td>\n",
       "      <td>0.0</td>\n",
       "      <td>Livestock</td>\n",
       "    </tr>\n",
       "    <tr>\n",
       "      <td>4</td>\n",
       "      <td>2.0</td>\n",
       "      <td>3.0</td>\n",
       "      <td>Yes</td>\n",
       "      <td>Yes</td>\n",
       "      <td>1.0</td>\n",
       "      <td>MONEY</td>\n",
       "      <td>1.0</td>\n",
       "      <td>Merchant/Shop</td>\n",
       "      <td>School Fees (Education)</td>\n",
       "      <td>20000.0</td>\n",
       "      <td>2.0</td>\n",
       "      <td>0.0</td>\n",
       "      <td>0.0</td>\n",
       "      <td>10.0</td>\n",
       "      <td>2000.0</td>\n",
       "      <td>None</td>\n",
       "    </tr>\n",
       "  </tbody>\n",
       "</table>\n",
       "</div>"
      ],
      "text/plain": [
       "   clid  hhid  r01  r02  r03             r04  r05                         r06  \\\n",
       "0   1.0   1.0  Yes  Yes  1.0  EDUCATION LOAN  1.0   Self-Help Groups/Chamas     \n",
       "1   1.0   2.0  Yes  Yes  1.0            LOAN  1.0   Self-Help Groups/Chamas     \n",
       "2   1.0   4.0  Yes  Yes  1.0            LOAN  1.0   Self-Help Groups/Chamas     \n",
       "3   1.0   6.0  Yes  Yes  1.0            CASH  1.0   Self-Help Groups/Chamas     \n",
       "4   2.0   3.0  Yes  Yes  1.0           MONEY  1.0             Merchant/Shop     \n",
       "\n",
       "                                   r07      r08   r09  r10_m  r10_y   r11  \\\n",
       "0            School Fees (Education)    10000.0  10.0   10.0   20.0   6.0   \n",
       "1                  Subsistence Needs    10000.0  21.0   10.0   20.0   5.0   \n",
       "2  Purchase/Construction of Dwelling     4000.0   2.0   10.0    0.0   4.0   \n",
       "3                  Subsistence Needs    20000.0   7.0    4.0   10.0  12.0   \n",
       "4            School Fees (Education)    20000.0   2.0    0.0    0.0  10.0   \n",
       "\n",
       "      r12          r13  \n",
       "0  4000.0     Shares    \n",
       "1     0.0     Shares    \n",
       "2     0.0     Shares    \n",
       "3     0.0  Livestock    \n",
       "4  2000.0        None   "
      ]
     },
     "execution_count": 276,
     "metadata": {},
     "output_type": "execute_result"
    }
   ],
   "source": [
    "credit.head()"
   ]
  },
  {
   "cell_type": "code",
   "execution_count": 277,
   "metadata": {},
   "outputs": [
    {
     "data": {
      "text/plain": [
       "0.0      5438\n",
       "12.0      876\n",
       "10.0      859\n",
       "20.0      828\n",
       "18.0      753\n",
       "         ... \n",
       "288.0       1\n",
       "54.0        1\n",
       "29.0        1\n",
       "10.4        1\n",
       "44.4        1\n",
       "Name: r10_y, Length: 148, dtype: int64"
      ]
     },
     "execution_count": 277,
     "metadata": {},
     "output_type": "execute_result"
    }
   ],
   "source": [
    "credit['r10_y'].value_counts()"
   ]
  },
  {
   "cell_type": "markdown",
   "metadata": {},
   "source": [
    "**Excellent !**"
   ]
  },
  {
   "cell_type": "markdown",
   "metadata": {},
   "source": [
    "**On to the 'r11' column**"
   ]
  },
  {
   "cell_type": "code",
   "execution_count": 280,
   "metadata": {},
   "outputs": [
    {
     "data": {
      "text/plain": [
       "False    9359\n",
       "True      351\n",
       "Name: r11, dtype: int64"
      ]
     },
     "execution_count": 280,
     "metadata": {},
     "output_type": "execute_result"
    }
   ],
   "source": [
    "#351 missing data points\n",
    "\n",
    "credit['r11'].isnull().value_counts()"
   ]
  },
  {
   "cell_type": "code",
   "execution_count": 282,
   "metadata": {},
   "outputs": [
    {
     "data": {
      "text/plain": [
       "1.0     3244\n",
       "12.0    1766\n",
       "3.0      629\n",
       "0.0      627\n",
       "2.0      625\n",
       "6.0      450\n",
       "24.0     350\n",
       "36.0     266\n",
       "10.0     193\n",
       "4.0      187\n",
       "48.0     138\n",
       "5.0      133\n",
       "18.0     132\n",
       "60.0     116\n",
       "9.0      107\n",
       "8.0       92\n",
       "72.0      80\n",
       "7.0       45\n",
       "30.0      32\n",
       "20.0      32\n",
       "Name: r11, dtype: int64"
      ]
     },
     "execution_count": 282,
     "metadata": {},
     "output_type": "execute_result"
    }
   ],
   "source": [
    "credit['r11'].value_counts().head(20)"
   ]
  },
  {
   "cell_type": "code",
   "execution_count": 283,
   "metadata": {},
   "outputs": [
    {
     "name": "stdout",
     "output_type": "stream",
     "text": [
      "8.76279517042419\n",
      "3.0\n"
     ]
    }
   ],
   "source": [
    "print(credit['r11'].mean())\n",
    "print(credit['r11'].median())"
   ]
  },
  {
   "cell_type": "markdown",
   "metadata": {},
   "source": [
    "It's almost appropriate to impute with the median value\n",
    "\n",
    "From the stats in the cell above, 3.0 which is the median value is the 3^rd most dominant variable, and again considering that there are only 351 missing data points"
   ]
  },
  {
   "cell_type": "code",
   "execution_count": 284,
   "metadata": {},
   "outputs": [],
   "source": [
    "credit['r11'].fillna(value=3.0, inplace=True)"
   ]
  },
  {
   "cell_type": "code",
   "execution_count": 287,
   "metadata": {},
   "outputs": [
    {
     "data": {
      "text/plain": [
       "False    9710\n",
       "Name: r11, dtype: int64"
      ]
     },
     "execution_count": 287,
     "metadata": {},
     "output_type": "execute_result"
    }
   ],
   "source": [
    "credit['r11'].isnull().value_counts()"
   ]
  },
  {
   "cell_type": "markdown",
   "metadata": {},
   "source": [
    "**On to the 'r12' column**"
   ]
  },
  {
   "cell_type": "code",
   "execution_count": 288,
   "metadata": {},
   "outputs": [
    {
     "data": {
      "text/plain": [
       "False    9401\n",
       "True      309\n",
       "Name: r12, dtype: int64"
      ]
     },
     "execution_count": 288,
     "metadata": {},
     "output_type": "execute_result"
    }
   ],
   "source": [
    "# 309 missing data points\n",
    "\n",
    "credit['r12'].isnull().value_counts()"
   ]
  },
  {
   "cell_type": "code",
   "execution_count": 290,
   "metadata": {},
   "outputs": [
    {
     "data": {
      "text/plain": [
       "0.0        3456\n",
       "2000.0      316\n",
       "1000.0      267\n",
       "5000.0      261\n",
       "3000.0      250\n",
       "10000.0     235\n",
       "4000.0      194\n",
       "500.0       175\n",
       "20000.0     172\n",
       "6000.0      141\n",
       "30000.0     127\n",
       "15000.0     122\n",
       "8000.0      111\n",
       "200.0       106\n",
       "1500.0      101\n",
       "40000.0      92\n",
       "50000.0      87\n",
       "7000.0       76\n",
       "2500.0       74\n",
       "100.0        70\n",
       "Name: r12, dtype: int64"
      ]
     },
     "execution_count": 290,
     "metadata": {},
     "output_type": "execute_result"
    }
   ],
   "source": [
    "credit['r12'].value_counts().head(20)"
   ]
  },
  {
   "cell_type": "code",
   "execution_count": 291,
   "metadata": {},
   "outputs": [
    {
     "name": "stdout",
     "output_type": "stream",
     "text": [
      "34182.422082757155\n",
      "1000.0\n"
     ]
    }
   ],
   "source": [
    "print(credit['r12'].mean())\n",
    "print(credit['r12'].median())"
   ]
  },
  {
   "cell_type": "markdown",
   "metadata": {},
   "source": [
    "**Note**\n",
    "\n",
    "*r08 - How much was borrowed*\n",
    "\n",
    "*r12 - How much is outstanding*\n",
    "\n",
    "so the sum_0f_r08 - sum_of_r12 = total_paid_amount\n",
    "\n",
    "we can get outstanding by total_paid_amount - sum_of_r12\n",
    "\n",
    "we can then get the mean of this and fill in the missing values"
   ]
  },
  {
   "cell_type": "code",
   "execution_count": 298,
   "metadata": {},
   "outputs": [
    {
     "data": {
      "text/plain": [
       "244085536.0"
      ]
     },
     "execution_count": 298,
     "metadata": {},
     "output_type": "execute_result"
    }
   ],
   "source": [
    "sum(credit['r08']) - np.sum(credit['r12'])"
   ]
  },
  {
   "cell_type": "code",
   "execution_count": 299,
   "metadata": {},
   "outputs": [
    {
     "data": {
      "text/plain": [
       "-77263414.0"
      ]
     },
     "execution_count": 299,
     "metadata": {},
     "output_type": "execute_result"
    }
   ],
   "source": [
    "244085536 - np.sum(credit['r12'])"
   ]
  },
  {
   "cell_type": "markdown",
   "metadata": {},
   "source": [
    "That will not work, it seems that the paid in amount does not balance with the borrowed amount, arrears are to high\n",
    "\n",
    "The only other correct option is to assume that the values missing are those of cleared transactions\n",
    "\n",
    "And from the cells above, O.0 is dominant so we will use this reasoning to back up our idea\n",
    "\n"
   ]
  },
  {
   "cell_type": "code",
   "execution_count": 300,
   "metadata": {},
   "outputs": [],
   "source": [
    "credit['r12'].fillna(value=0.0, inplace=True)"
   ]
  },
  {
   "cell_type": "code",
   "execution_count": 301,
   "metadata": {},
   "outputs": [
    {
     "data": {
      "text/plain": [
       "False    9710\n",
       "Name: r12, dtype: int64"
      ]
     },
     "execution_count": 301,
     "metadata": {},
     "output_type": "execute_result"
    }
   ],
   "source": [
    "credit['r12'].isnull().value_counts()"
   ]
  },
  {
   "cell_type": "markdown",
   "metadata": {},
   "source": [
    "**On to the 'r13' column; the last column**"
   ]
  },
  {
   "cell_type": "code",
   "execution_count": 303,
   "metadata": {},
   "outputs": [
    {
     "data": {
      "text/plain": [
       "False    8945\n",
       "True      765\n",
       "Name: r13, dtype: int64"
      ]
     },
     "execution_count": 303,
     "metadata": {},
     "output_type": "execute_result"
    }
   ],
   "source": [
    "# 765 missing data points\n",
    "\n",
    "credit['r13'].isnull().value_counts()"
   ]
  },
  {
   "cell_type": "code",
   "execution_count": 304,
   "metadata": {},
   "outputs": [
    {
     "data": {
      "text/plain": [
       "None                      4295\n",
       "Shares                    1618\n",
       "Individual/Guarantor      1252\n",
       "Salary                     553\n",
       "Livestock                  317\n",
       "Household Goods            269\n",
       "Income                     185\n",
       "Other                      168\n",
       "Business Stock             121\n",
       "Land Title                 102\n",
       "Motor Vehicle/Cycle         50\n",
       "House                       15\n",
       "Name: r13, dtype: int64"
      ]
     },
     "execution_count": 304,
     "metadata": {},
     "output_type": "execute_result"
    }
   ],
   "source": [
    "credit['r13'].value_counts()"
   ]
  },
  {
   "cell_type": "markdown",
   "metadata": {},
   "source": [
    "Let's define a function similar to the one we used for the 'r10_y' column\n",
    "\n",
    "We will use the first 5 dominant variables"
   ]
  },
  {
   "cell_type": "code",
   "execution_count": 306,
   "metadata": {},
   "outputs": [],
   "source": [
    "values2 = np.array(['None', 'Shares', 'Individual/Guarantor', 'Salary', 'Livestock'])\n",
    "def imputer2(colval):\n",
    "    if colval == 'empty':\n",
    "        np.random.shuffle(values2)\n",
    "        return values[0]\n",
    "    else:\n",
    "        return colval"
   ]
  },
  {
   "cell_type": "code",
   "execution_count": 307,
   "metadata": {},
   "outputs": [],
   "source": [
    "credit['r13'].fillna(value='empty', inplace=True)"
   ]
  },
  {
   "cell_type": "code",
   "execution_count": 308,
   "metadata": {},
   "outputs": [],
   "source": [
    "credit['r13'] = credit['r13'].apply(imputer2)"
   ]
  },
  {
   "cell_type": "code",
   "execution_count": 309,
   "metadata": {},
   "outputs": [
    {
     "data": {
      "text/plain": [
       "False    9710\n",
       "Name: r13, dtype: int64"
      ]
     },
     "execution_count": 309,
     "metadata": {},
     "output_type": "execute_result"
    }
   ],
   "source": [
    "credit['r13'].isnull().value_counts()"
   ]
  },
  {
   "cell_type": "markdown",
   "metadata": {},
   "source": [
    "Now all our data is imputed.\n",
    "\n",
    "There are no missing values.\n",
    "\n",
    "Let's use a heatmap to see that indeed there is no missing data"
   ]
  },
  {
   "cell_type": "code",
   "execution_count": 310,
   "metadata": {},
   "outputs": [
    {
     "data": {
      "text/plain": [
       "<matplotlib.axes._subplots.AxesSubplot at 0x7ff62a1bd390>"
      ]
     },
     "execution_count": 310,
     "metadata": {},
     "output_type": "execute_result"
    },
    {
     "data": {
      "image/png": "[encoded data removed]",
      "text/plain": [
       "<Figure size 432x288 with 1 Axes>"
      ]
     },
     "metadata": {
      "needs_background": "light"
     },
     "output_type": "display_data"
    }
   ],
   "source": [
    "sns.heatmap(credit.isnull(), cbar=False, yticklabels=False, cmap='viridis')"
   ]
  },
  {
   "cell_type": "code",
   "execution_count": null,
   "metadata": {},
   "outputs": [],
   "source": []
  }
 ],
 "metadata": {
  "kernelspec": {
   "display_name": "Python 3",
   "language": "python",
   "name": "python3"
  },
  "language_info": {
   "codemirror_mode": {
    "name": "ipython",
    "version": 3
   },
   "file_extension": ".py",
   "mimetype": "text/x-python",
   "name": "python",
   "nbconvert_exporter": "python",
   "pygments_lexer": "ipython3",
   "version": "3.7.6"
  }
 },
 "nbformat": 4,
 "nbformat_minor": 4
}
